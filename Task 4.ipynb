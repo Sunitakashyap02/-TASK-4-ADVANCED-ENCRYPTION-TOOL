from cryptography.fernet import Fernet
import os

# Function to generate and save a key
def generate_key():
    key = Fernet.generate_key()
    with open("encryption_key.key", "wb") as key_file:
        key_file.write(key)
    print("Encryption Key generated and saved as 'encryption_key.key'.")

# Function to load the key
def load_key():
    try:
        with open("encryption_key.key", "rb") as key_file:
            return key_file.read()
    except FileNotFoundError:
        print("Key file not found. Generate a key first using option 1.")
        return None

# Function to encrypt a file
def encrypt_file(filename):
    key = load_key()
    if not key:
        return
    fernet = Fernet(key)

    try:
        with open(filename, "rb") as file:
            original_data = file.read()
        encrypted_data = fernet.encrypt(original_data)

        with open(filename + ".enc", "wb") as encrypted_file:
            encrypted_file.write(encrypted_data)
        print(f"File '{filename}' encrypted successfully as '{filename}.enc'")
    except FileNotFoundError:
        print(f"File '{filename}' not found.")

# Function to decrypt a file
def decrypt_file(filename):
    key = load_key()
    if not key:
        return
    fernet = Fernet(key)

    try:
        with open(filename, "rb") as enc_file:
            encrypted_data = enc_file.read()
        decrypted_data = fernet.decrypt(encrypted_data)

        decrypted_filename = filename.replace(".enc", "")
        with open("decrypted_" + decrypted_filename, "wb") as dec_file:
            dec_file.write(decrypted_data)
        print(f"File '{filename}' decrypted successfully as 'decrypted_{decrypted_filename}'")
    except FileNotFoundError:
        print(f"File '{filename}' not found.")
    except Exception as e:
        print("Decryption failed. Error:", e)

# Command Line Interface
def main():
    while True:
        print("\n===== Advanced Encryption Tool (AES-256) =====")
        print("1. Generate Encryption Key")
        print("2. Encrypt a File")
        print("3. Decrypt a File")
        print("4. Exit")
        choice = input("Enter your choice (1-4): ")

        if choice == '1':
            generate_key()
        elif choice == '2':
            filename = input("Enter the filename to encrypt: ")
            encrypt_file(filename)
        elif choice == '3':
            filename = input("Enter the filename to decrypt (with .enc extension): ")
            decrypt_file(filename)
        elif choice == '4':
            print("Exiting Advanced Encryption Tool.")
            break
        else:
            print("Invalid choice. Please enter 1-4.")

if __name__ == "__main__":
    main()
